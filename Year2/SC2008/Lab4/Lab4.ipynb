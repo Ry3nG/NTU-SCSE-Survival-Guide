{
 "cells": [
  {
   "attachments": {},
   "cell_type": "markdown",
   "metadata": {},
   "source": [
    "# Lab 4 - A57 - Gong Zerui"
   ]
  },
  {
   "cell_type": "code",
   "execution_count": 74,
   "metadata": {},
   "outputs": [
    {
     "data": {
      "text/html": [
       "<div>\n",
       "<style scoped>\n",
       "    .dataframe tbody tr th:only-of-type {\n",
       "        vertical-align: middle;\n",
       "    }\n",
       "\n",
       "    .dataframe tbody tr th {\n",
       "        vertical-align: top;\n",
       "    }\n",
       "\n",
       "    .dataframe thead th {\n",
       "        text-align: right;\n",
       "    }\n",
       "</style>\n",
       "<table border=\"1\" class=\"dataframe\">\n",
       "  <thead>\n",
       "    <tr style=\"text-align: right;\">\n",
       "      <th></th>\n",
       "      <th>type</th>\n",
       "      <th>sflow_agent_address</th>\n",
       "      <th>inputPort</th>\n",
       "      <th>outputPort</th>\n",
       "      <th>src_MAC</th>\n",
       "      <th>dst_MAC</th>\n",
       "      <th>ethernet_type</th>\n",
       "      <th>in_vlan</th>\n",
       "      <th>out_vlan</th>\n",
       "      <th>src_IP</th>\n",
       "      <th>dst_IP</th>\n",
       "      <th>IP_protocol</th>\n",
       "      <th>ip_tos</th>\n",
       "      <th>ip_ttl</th>\n",
       "      <th>src_transport_port</th>\n",
       "      <th>dst_transport_port</th>\n",
       "      <th>tcp_flags</th>\n",
       "      <th>packet_size</th>\n",
       "      <th>IP_size</th>\n",
       "      <th>sampling_rate</th>\n",
       "    </tr>\n",
       "  </thead>\n",
       "  <tbody>\n",
       "    <tr>\n",
       "      <th>0</th>\n",
       "      <td>FLOW</td>\n",
       "      <td>aa.aa.aa.aa</td>\n",
       "      <td>129</td>\n",
       "      <td>193</td>\n",
       "      <td>609c9f851b00</td>\n",
       "      <td>0031466b23cf</td>\n",
       "      <td>0x0800</td>\n",
       "      <td>11.0</td>\n",
       "      <td>919</td>\n",
       "      <td>155.69.160.32</td>\n",
       "      <td>64.233.188.128</td>\n",
       "      <td>6</td>\n",
       "      <td>0x00</td>\n",
       "      <td>56</td>\n",
       "      <td>23159.0</td>\n",
       "      <td>80</td>\n",
       "      <td>0x10</td>\n",
       "      <td>74</td>\n",
       "      <td>52</td>\n",
       "      <td>2048</td>\n",
       "    </tr>\n",
       "    <tr>\n",
       "      <th>1</th>\n",
       "      <td>FLOW</td>\n",
       "      <td>aa.aa.aa.aa</td>\n",
       "      <td>137</td>\n",
       "      <td>200</td>\n",
       "      <td>d404ff55fd4d</td>\n",
       "      <td>80711fc76001</td>\n",
       "      <td>0x0800</td>\n",
       "      <td>919.0</td>\n",
       "      <td>280</td>\n",
       "      <td>130.246.176.53</td>\n",
       "      <td>140.115.32.83</td>\n",
       "      <td>6</td>\n",
       "      <td>0x00</td>\n",
       "      <td>50</td>\n",
       "      <td>50041.0</td>\n",
       "      <td>20739</td>\n",
       "      <td>0x10</td>\n",
       "      <td>1518</td>\n",
       "      <td>1500</td>\n",
       "      <td>2048</td>\n",
       "    </tr>\n",
       "    <tr>\n",
       "      <th>2</th>\n",
       "      <td>FLOW</td>\n",
       "      <td>aa.aa.aa.aa</td>\n",
       "      <td>129</td>\n",
       "      <td>135</td>\n",
       "      <td>609c9f851b00</td>\n",
       "      <td>002688cd5fc7</td>\n",
       "      <td>0x0800</td>\n",
       "      <td>11.0</td>\n",
       "      <td>919</td>\n",
       "      <td>155.69.160.32</td>\n",
       "      <td>54.169.174.79</td>\n",
       "      <td>17</td>\n",
       "      <td>0x00</td>\n",
       "      <td>120</td>\n",
       "      <td>54241.0</td>\n",
       "      <td>26510</td>\n",
       "      <td>0x10</td>\n",
       "      <td>116</td>\n",
       "      <td>94</td>\n",
       "      <td>2048</td>\n",
       "    </tr>\n",
       "    <tr>\n",
       "      <th>3</th>\n",
       "      <td>FLOW</td>\n",
       "      <td>aa.aa.aa.aa</td>\n",
       "      <td>130</td>\n",
       "      <td>199</td>\n",
       "      <td>00239cd087c1</td>\n",
       "      <td>544b8cf9a7df</td>\n",
       "      <td>0x0800</td>\n",
       "      <td>919.0</td>\n",
       "      <td>600</td>\n",
       "      <td>137.132.228.15</td>\n",
       "      <td>193.62.192.8</td>\n",
       "      <td>6</td>\n",
       "      <td>0x00</td>\n",
       "      <td>56</td>\n",
       "      <td>53923.0</td>\n",
       "      <td>34262</td>\n",
       "      <td>0x10</td>\n",
       "      <td>70</td>\n",
       "      <td>52</td>\n",
       "      <td>2048</td>\n",
       "    </tr>\n",
       "    <tr>\n",
       "      <th>4</th>\n",
       "      <td>FLOW</td>\n",
       "      <td>aa.aa.aa.aa</td>\n",
       "      <td>129</td>\n",
       "      <td>135</td>\n",
       "      <td>609c9f851b00</td>\n",
       "      <td>002688cd5fc7</td>\n",
       "      <td>0x0800</td>\n",
       "      <td>11.0</td>\n",
       "      <td>919</td>\n",
       "      <td>155.69.160.32</td>\n",
       "      <td>54.255.221.151</td>\n",
       "      <td>17</td>\n",
       "      <td>0x00</td>\n",
       "      <td>120</td>\n",
       "      <td>55069.0</td>\n",
       "      <td>26509</td>\n",
       "      <td>0x10</td>\n",
       "      <td>113</td>\n",
       "      <td>91</td>\n",
       "      <td>2048</td>\n",
       "    </tr>\n",
       "    <tr>\n",
       "      <th>...</th>\n",
       "      <td>...</td>\n",
       "      <td>...</td>\n",
       "      <td>...</td>\n",
       "      <td>...</td>\n",
       "      <td>...</td>\n",
       "      <td>...</td>\n",
       "      <td>...</td>\n",
       "      <td>...</td>\n",
       "      <td>...</td>\n",
       "      <td>...</td>\n",
       "      <td>...</td>\n",
       "      <td>...</td>\n",
       "      <td>...</td>\n",
       "      <td>...</td>\n",
       "      <td>...</td>\n",
       "      <td>...</td>\n",
       "      <td>...</td>\n",
       "      <td>...</td>\n",
       "      <td>...</td>\n",
       "      <td>...</td>\n",
       "    </tr>\n",
       "    <tr>\n",
       "      <th>69364</th>\n",
       "      <td>FLOW</td>\n",
       "      <td>aa.aa.aa.aa</td>\n",
       "      <td>258</td>\n",
       "      <td>199</td>\n",
       "      <td>204e71cf1b0f</td>\n",
       "      <td>ccef48570144</td>\n",
       "      <td>0x0800</td>\n",
       "      <td>537.0</td>\n",
       "      <td>601</td>\n",
       "      <td>207.241.228.157</td>\n",
       "      <td>210.48.222.9</td>\n",
       "      <td>6</td>\n",
       "      <td>0x00</td>\n",
       "      <td>56</td>\n",
       "      <td>443.0</td>\n",
       "      <td>57434</td>\n",
       "      <td>0x10</td>\n",
       "      <td>1522</td>\n",
       "      <td>1500</td>\n",
       "      <td>2048</td>\n",
       "    </tr>\n",
       "    <tr>\n",
       "      <th>69365</th>\n",
       "      <td>FLOW</td>\n",
       "      <td>aa.aa.aa.aa</td>\n",
       "      <td>131</td>\n",
       "      <td>193</td>\n",
       "      <td>00a742233e9e</td>\n",
       "      <td>0031466b23cf</td>\n",
       "      <td>0x0800</td>\n",
       "      <td>43.0</td>\n",
       "      <td>919</td>\n",
       "      <td>192.122.131.36</td>\n",
       "      <td>216.58.203.234</td>\n",
       "      <td>6</td>\n",
       "      <td>0x00</td>\n",
       "      <td>121</td>\n",
       "      <td>4920.0</td>\n",
       "      <td>443</td>\n",
       "      <td>0x10</td>\n",
       "      <td>1442</td>\n",
       "      <td>1420</td>\n",
       "      <td>2048</td>\n",
       "    </tr>\n",
       "    <tr>\n",
       "      <th>69366</th>\n",
       "      <td>FLOW</td>\n",
       "      <td>aa.aa.aa.aa</td>\n",
       "      <td>130</td>\n",
       "      <td>199</td>\n",
       "      <td>00239cd087c1</td>\n",
       "      <td>544b8cf9a7df</td>\n",
       "      <td>0x0800</td>\n",
       "      <td>919.0</td>\n",
       "      <td>600</td>\n",
       "      <td>137.132.228.15</td>\n",
       "      <td>193.62.192.8</td>\n",
       "      <td>6</td>\n",
       "      <td>0x00</td>\n",
       "      <td>56</td>\n",
       "      <td>34153.0</td>\n",
       "      <td>3123</td>\n",
       "      <td>0x10</td>\n",
       "      <td>82</td>\n",
       "      <td>64</td>\n",
       "      <td>2048</td>\n",
       "    </tr>\n",
       "    <tr>\n",
       "      <th>69367</th>\n",
       "      <td>FLOW</td>\n",
       "      <td>aa.aa.aa.aa</td>\n",
       "      <td>129</td>\n",
       "      <td>193</td>\n",
       "      <td>609c9f851b00</td>\n",
       "      <td>0031466b23cf</td>\n",
       "      <td>0x0800</td>\n",
       "      <td>11.0</td>\n",
       "      <td>919</td>\n",
       "      <td>155.69.196.9</td>\n",
       "      <td>74.125.56.6</td>\n",
       "      <td>17</td>\n",
       "      <td>0x00</td>\n",
       "      <td>58</td>\n",
       "      <td>56221.0</td>\n",
       "      <td>60786</td>\n",
       "      <td>0x10</td>\n",
       "      <td>1267</td>\n",
       "      <td>1245</td>\n",
       "      <td>2048</td>\n",
       "    </tr>\n",
       "    <tr>\n",
       "      <th>69368</th>\n",
       "      <td>FLOW</td>\n",
       "      <td>aa.aa.aa.aa</td>\n",
       "      <td>137</td>\n",
       "      <td>200</td>\n",
       "      <td>d404ff55fd4d</td>\n",
       "      <td>80711fc76001</td>\n",
       "      <td>0x0800</td>\n",
       "      <td>919.0</td>\n",
       "      <td>280</td>\n",
       "      <td>14.139.196.58</td>\n",
       "      <td>192.101.107.153</td>\n",
       "      <td>6</td>\n",
       "      <td>0x00</td>\n",
       "      <td>57</td>\n",
       "      <td>34625.0</td>\n",
       "      <td>41211</td>\n",
       "      <td>0x10</td>\n",
       "      <td>58</td>\n",
       "      <td>40</td>\n",
       "      <td>2048</td>\n",
       "    </tr>\n",
       "  </tbody>\n",
       "</table>\n",
       "<p>69369 rows × 20 columns</p>\n",
       "</div>"
      ],
      "text/plain": [
       "       type sflow_agent_address  inputPort  outputPort       src_MAC  \\\n",
       "0      FLOW         aa.aa.aa.aa        129         193  609c9f851b00   \n",
       "1      FLOW         aa.aa.aa.aa        137         200  d404ff55fd4d   \n",
       "2      FLOW         aa.aa.aa.aa        129         135  609c9f851b00   \n",
       "3      FLOW         aa.aa.aa.aa        130         199  00239cd087c1   \n",
       "4      FLOW         aa.aa.aa.aa        129         135  609c9f851b00   \n",
       "...     ...                 ...        ...         ...           ...   \n",
       "69364  FLOW         aa.aa.aa.aa        258         199  204e71cf1b0f   \n",
       "69365  FLOW         aa.aa.aa.aa        131         193  00a742233e9e   \n",
       "69366  FLOW         aa.aa.aa.aa        130         199  00239cd087c1   \n",
       "69367  FLOW         aa.aa.aa.aa        129         193  609c9f851b00   \n",
       "69368  FLOW         aa.aa.aa.aa        137         200  d404ff55fd4d   \n",
       "\n",
       "            dst_MAC ethernet_type  in_vlan  out_vlan           src_IP  \\\n",
       "0      0031466b23cf        0x0800     11.0       919    155.69.160.32   \n",
       "1      80711fc76001        0x0800    919.0       280   130.246.176.53   \n",
       "2      002688cd5fc7        0x0800     11.0       919    155.69.160.32   \n",
       "3      544b8cf9a7df        0x0800    919.0       600   137.132.228.15   \n",
       "4      002688cd5fc7        0x0800     11.0       919    155.69.160.32   \n",
       "...             ...           ...      ...       ...              ...   \n",
       "69364  ccef48570144        0x0800    537.0       601  207.241.228.157   \n",
       "69365  0031466b23cf        0x0800     43.0       919   192.122.131.36   \n",
       "69366  544b8cf9a7df        0x0800    919.0       600   137.132.228.15   \n",
       "69367  0031466b23cf        0x0800     11.0       919     155.69.196.9   \n",
       "69368  80711fc76001        0x0800    919.0       280    14.139.196.58   \n",
       "\n",
       "                dst_IP  IP_protocol ip_tos  ip_ttl  src_transport_port  \\\n",
       "0       64.233.188.128            6   0x00      56             23159.0   \n",
       "1        140.115.32.83            6   0x00      50             50041.0   \n",
       "2        54.169.174.79           17   0x00     120             54241.0   \n",
       "3         193.62.192.8            6   0x00      56             53923.0   \n",
       "4       54.255.221.151           17   0x00     120             55069.0   \n",
       "...                ...          ...    ...     ...                 ...   \n",
       "69364     210.48.222.9            6   0x00      56               443.0   \n",
       "69365   216.58.203.234            6   0x00     121              4920.0   \n",
       "69366     193.62.192.8            6   0x00      56             34153.0   \n",
       "69367      74.125.56.6           17   0x00      58             56221.0   \n",
       "69368  192.101.107.153            6   0x00      57             34625.0   \n",
       "\n",
       "       dst_transport_port tcp_flags  packet_size  IP_size  sampling_rate  \n",
       "0                      80      0x10           74       52           2048  \n",
       "1                   20739      0x10         1518     1500           2048  \n",
       "2                   26510      0x10          116       94           2048  \n",
       "3                   34262      0x10           70       52           2048  \n",
       "4                   26509      0x10          113       91           2048  \n",
       "...                   ...       ...          ...      ...            ...  \n",
       "69364               57434      0x10         1522     1500           2048  \n",
       "69365                 443      0x10         1442     1420           2048  \n",
       "69366                3123      0x10           82       64           2048  \n",
       "69367               60786      0x10         1267     1245           2048  \n",
       "69368               41211      0x10           58       40           2048  \n",
       "\n",
       "[69369 rows x 20 columns]"
      ]
     },
     "execution_count": 74,
     "metadata": {},
     "output_type": "execute_result"
    }
   ],
   "source": [
    "import pandas as pd\n",
    "import requests\n",
    "import math\n",
    "from ipwhois import IPWhois\n",
    "from ipwhois.exceptions import IPDefinedError\n",
    "import warnings\n",
    "warnings.filterwarnings('ignore')\n",
    "\n",
    "col_names = [\n",
    "        \"type\", \"sflow_agent_address\", \"inputPort\", \"outputPort\", \"src_MAC\",\n",
    "        \"dst_MAC\", \"ethernet_type\", \"in_vlan\", \"out_vlan\", \"src_IP\", \"dst_IP\",\n",
    "        \"IP_protocol\", \"ip_tos\", \"ip_ttl\", \"src_transport_port\", \"dst_transport_port\",\n",
    "        \"tcp_flags\", \"packet_size\", \"IP_size\", \"sampling_rate\"\n",
    "    ]\n",
    "\n",
    "df = pd.read_csv('actualdata.csv')\n",
    "df = df.iloc[:,:-1]\n",
    "df.columns = col_names\n",
    "df"
   ]
  },
  {
   "attachments": {},
   "cell_type": "markdown",
   "metadata": {},
   "source": [
    "### Exercise 4A: Top Talkers and Listeners"
   ]
  },
  {
   "cell_type": "code",
   "execution_count": 19,
   "metadata": {},
   "outputs": [],
   "source": [
    "talkers = df['src_IP'].value_counts().head(5)\n",
    "listeners = df['dst_IP'].value_counts().head(5)\n",
    "\n",
    "def get_organization(ip_address):\n",
    "    try:\n",
    "        ipwhois = IPWhois(ip_address)\n",
    "        result = ipwhois.lookup_rdap()\n",
    "        return result['asn_description']\n",
    "    except:\n",
    "        return 'Unknown'"
   ]
  },
  {
   "cell_type": "code",
   "execution_count": 20,
   "metadata": {},
   "outputs": [
    {
     "name": "stdout",
     "output_type": "stream",
     "text": [
      "Top 5 Talkers\n",
      "Rank\tIP address\t\t# of packets\tOrganization\n",
      "1\t193.62.192.8\t3041\tJANET Jisc Services Limited, GB\n",
      "2\t155.69.160.32\t2975\tNTU-AS-AP Nanyang Technological University, SG\n",
      "3\t130.14.250.11\t2604\tNLM-GW, US\n",
      "4\t14.139.196.58\t2452\tNKN-EDGE-NW NKN EDGE Network, IN\n",
      "5\t140.112.8.139\t2056\tNTU-TW National Taiwan University, TW\n",
      "\n",
      "Top 5 Listeners\n",
      "Rank\tIP address\t\t# of packets\tOrganization\n",
      "1\t103.37.198.100\t3841\tA-STAR-AS-AP A-STAR, SG\n",
      "2\t137.132.228.15\t3715\tNUS-AS-AP NUS Information Technology, SG\n",
      "3\t202.21.159.244\t2446\tREPUBLICPOLYTECHNIC-AS Republic Polytechnic. Multihoming AS Singapore, SG\n",
      "4\t192.101.107.153\t2368\tESNET-AS, US\n",
      "5\t103.21.126.2\t2056\tIITB-IN Powai, IN\n"
     ]
    }
   ],
   "source": [
    "print(\"Top 5 Talkers\")\n",
    "print(\"Rank\\tIP address\\t\\t# of packets\\tOrganization\")\n",
    "\n",
    "for index, (ip_address, packets) in enumerate(talkers.iteritems(), start=1):\n",
    "    organization = get_organization(ip_address)\n",
    "    print(f\"{index}\\t{ip_address}\\t{packets}\\t{organization}\")\n",
    "\n",
    "print(\"\\nTop 5 Listeners\")\n",
    "print(\"Rank\\tIP address\\t\\t# of packets\\tOrganization\")\n",
    "\n",
    "for index, (ip_address, packets) in enumerate(listeners.iteritems(), start=1):\n",
    "    organization = get_organization(ip_address)\n",
    "    print(f\"{index}\\t{ip_address}\\t{packets}\\t{organization}\")\n"
   ]
  },
  {
   "attachments": {},
   "cell_type": "markdown",
   "metadata": {},
   "source": [
    "### Exercise 4B: Transport Protocol"
   ]
  },
  {
   "cell_type": "code",
   "execution_count": 35,
   "metadata": {},
   "outputs": [],
   "source": [
    "protocols = df[\"IP_protocol\"].value_counts()\n",
    "tcp_count = protocols[6]\n",
    "udp_count = protocols[17]\n",
    "\n",
    "tcp_percentage = tcp_count / len(df.index) * 100\n",
    "udp_percentage = udp_count / len(df.index) * 100\n"
   ]
  },
  {
   "cell_type": "code",
   "execution_count": 36,
   "metadata": {},
   "outputs": [
    {
     "name": "stdout",
     "output_type": "stream",
     "text": [
      "Transport layer protocol\t# of packets\n",
      "TCP\t\t\t56063 (80.82%)\n",
      "UDP\t\t\t9462 (13.64%)\n"
     ]
    }
   ],
   "source": [
    "print(\"Transport layer protocol\\t# of packets\")\n",
    "print(f\"TCP\\t\\t\\t{tcp_packets} ({tcp_percentage:.2f}%)\")\n",
    "print(f\"UDP\\t\\t\\t{udp_packets} ({udp_percentage:.2f}%)\")\n"
   ]
  },
  {
   "attachments": {},
   "cell_type": "markdown",
   "metadata": {},
   "source": [
    "### Exercise 4C: Application Protocol"
   ]
  },
  {
   "cell_type": "code",
   "execution_count": 38,
   "metadata": {},
   "outputs": [
    {
     "name": "stdout",
     "output_type": "stream",
     "text": [
      "Rank\tDestination IP port number\t# of packets\tService\n",
      "1\t443\t\t\t13423\t\t--- replace manually later ---\n",
      "2\t80\t\t\t2647\t\t--- replace manually later ---\n",
      "3\t52866\t\t\t2068\t\t--- replace manually later ---\n",
      "4\t45512\t\t\t1356\t\t--- replace manually later ---\n",
      "5\t56152\t\t\t1341\t\t--- replace manually later ---\n"
     ]
    }
   ],
   "source": [
    "top_ports = df['dst_transport_port'].value_counts().head(5)\n",
    "\n",
    "print(\"Rank\\tDestination IP port number\\t# of packets\\tService\")\n",
    "for i, (port, count) in enumerate(top_ports.items(), start=1):\n",
    "    service = \"--- replace manually later ---\"  \n",
    "    print(f\"{i}\\t{port}\\t\\t\\t{count}\\t\\t{service}\")\n",
    "\n",
    "# 443: HTTPS\n",
    "# 80: HTTP\n",
    "# 52866: Dynamic and/or Private Ports by IANA, Xsan,by Apple Inc.\n",
    "# 45512: Unkassigned\n",
    "# 56152: Dynamic and/or Private Ports by IANA, Xsan,by Apple Inc.\n"
   ]
  },
  {
   "cell_type": "code",
   "execution_count": 41,
   "metadata": {},
   "outputs": [
    {
     "name": "stdout",
     "output_type": "stream",
     "text": [
      "Rank | Destination IP port number | # of packets | Service\n",
      "---- | -------------------------- | ----------- | -------\n",
      "1    |                       443 |       13423 | HTTPS\n",
      "2    |                        80 |        2647 | HTTP\n",
      "3    |                     52866 |        2068 | Dynamic and/or Private Ports by IANA, Xsan,by Apple Inc.\n",
      "4    |                     45512 |        1356 | Unkassigned\n",
      "5    |                     56152 |        1341 | Dynamic and/or Private Ports by IANA, Xsan,by Apple Inc.\n"
     ]
    }
   ],
   "source": [
    "# update code:\n",
    "# Get the top 5 most frequently used destination ports\n",
    "top_ports = df[\"dst_transport_port\"].value_counts().head(5)\n",
    "\n",
    "# Print the table header\n",
    "print(\"Rank | Destination IP port number | # of packets | Service\")\n",
    "print(\"---- | -------------------------- | ----------- | -------\")\n",
    "\n",
    "# Iterate through the top 5 ports and print their information\n",
    "for rank, (port, count) in enumerate(top_ports.items(), start=1):\n",
    "    # Determine the service name based on the port number\n",
    "    if port == 443:\n",
    "        service = \"HTTPS\"\n",
    "    elif port == 80:\n",
    "        service = \"HTTP\"\n",
    "    elif port == 52866:\n",
    "        service = \"Dynamic and/or Private Ports by IANA, Xsan,by Apple Inc.\"\n",
    "    elif port == 45512:\n",
    "        service = \"Unkassigned\"\n",
    "    elif port == 56152:\n",
    "        service = \"Dynamic and/or Private Ports by IANA, Xsan,by Apple Inc.\"\n",
    "    else:\n",
    "        service = \"Unknown\"\n",
    "        \n",
    "\n",
    "    # Print the table row for this port\n",
    "    print(f\"{rank}    | {port:25} | {count:11} | {service}\")\n"
   ]
  },
  {
   "attachments": {},
   "cell_type": "markdown",
   "metadata": {},
   "source": [
    "### Exercise 4D: Traffic"
   ]
  },
  {
   "cell_type": "code",
   "execution_count": 92,
   "metadata": {},
   "outputs": [
    {
     "name": "stdout",
     "output_type": "stream",
     "text": [
      "Total traffic:  126516.254 MB\n"
     ]
    }
   ],
   "source": [
    "total_packet_size = df.loc[df.iloc[:, 0] == \"FLOW\", \"IP_size\"].sum() *2048/ (1024**2)\n",
    "print(f\"Total traffic: {total_packet_size: .3f} MB\")\n"
   ]
  },
  {
   "attachments": {},
   "cell_type": "markdown",
   "metadata": {},
   "source": [
    "### Exercise 4E: Additional Analysis"
   ]
  },
  {
   "attachments": {},
   "cell_type": "markdown",
   "metadata": {},
   "source": [
    "I'll first focus on the top 100 communicaton pairs and create a visualization of communications between different IP hosts"
   ]
  },
  {
   "attachments": {},
   "cell_type": "markdown",
   "metadata": {},
   "source": [
    "##### Visualization of Communications between Different IP Hosts\n",
    "\n",
    "I'll be using the networkx library to create the visualization and matplotlib to display it."
   ]
  },
  {
   "cell_type": "code",
   "execution_count": 70,
   "metadata": {},
   "outputs": [
    {
     "data": {
      "image/png": "[encoded data removed]",
      "text/plain": [
       "<Figure size 1000x1000 with 1 Axes>"
      ]
     },
     "metadata": {},
     "output_type": "display_data"
    }
   ],
   "source": [
    "import networkx as nx\n",
    "import matplotlib.pyplot as plt\n",
    "\n",
    "communication_pairs = df.groupby([\"src_IP\", \"dst_IP\"]).size().reset_index(name=\"count\")\n",
    "top_100_pairs = communication_pairs.sort_values(\"count\", ascending=False).head(100)\n",
    "\n",
    "# Create a new column in the top_100_pairs DataFrame\n",
    "top_100_pairs['src_IP_dst_IP'] = list(zip(top_100_pairs['src_IP'], top_100_pairs['dst_IP']))\n",
    "top_pairs = top_100_pairs[\"src_IP_dst_IP\"].tolist()\n",
    "\n",
    "# Filter the data to include only the top 100 communication pairs\n",
    "filtered_df = df[df.apply(lambda row: (row[\"src_IP\"], row[\"dst_IP\"]) in top_pairs, axis=1)]\n",
    "\n",
    "# Create a directed graph from the filtered dataframe\n",
    "G_filtered = nx.from_pandas_edgelist(filtered_df, \"src_IP\", \"dst_IP\", create_using=nx.DiGraph())\n",
    "\n",
    "# Draw the filtered graph with node labels\n",
    "pos_filtered = nx.spring_layout(G_filtered, seed=42)\n",
    "plt.figure(figsize=(10, 10))\n",
    "nx.draw(G_filtered, pos_filtered, with_labels=True, node_size=1000, node_color=\"skyblue\", arrowsize=20, font_size=8)\n",
    "\n",
    "# Add edge labels with packet count\n",
    "edge_labels_filtered = {(src, dst): filtered_df[(filtered_df[\"src_IP\"] == src) & (filtered_df[\"dst_IP\"] == dst)].shape[0] for src, dst in G_filtered.edges()}\n",
    "nx.draw_networkx_edge_labels(G_filtered, pos_filtered, edge_labels=edge_labels_filtered, font_size=8)\n",
    "\n",
    "plt.title(\"Top 100 Communication Pairs\")\n",
    "plt.show()\n"
   ]
  },
  {
   "attachments": {},
   "cell_type": "markdown",
   "metadata": {},
   "source": [
    "##### One more step, make an interactive visualization\n",
    "\n",
    "I'll be using the Plotly library to create the interactive visualization, which allows user to hover over the nodes to see additional information."
   ]
  },
  {
   "cell_type": "code",
   "execution_count": 84,
   "metadata": {},
   "outputs": [],
   "source": [
    "# code for getting ip information using IPWhois\n",
    "def get_ip_info(ip):\n",
    "    try:\n",
    "        ipwhois = IPWhois(ip)\n",
    "        result = ipwhois.lookup_rdap(depth=1)\n",
    "        return result\n",
    "    except IPDefinedError:\n",
    "        return None\n",
    "    # except http error as well\n",
    "    except Exception as e:\n",
    "        print(e)\n",
    "        return None\n"
   ]
  },
  {
   "cell_type": "code",
   "execution_count": 86,
   "metadata": {},
   "outputs": [
    {
     "name": "stdout",
     "output_type": "stream",
     "text": [
      "HTTP lookup failed for http://whois.nic.ad.jp/cgi-bin/whois_gw?lang=%2Fe&key=JP00037726&submit=query.\n"
     ]
    },
    {
     "data": {
      "application/vnd.plotly.v1+json": {
       "config": {
        "plotlyServerURL": "https://plot.ly"
       },
       "data": [
        {
         "hoverinfo": "none",
         "line": {
          "color": "gray",
          "width": 1
         },
         "mode": "lines",
         "type": "scatter",
         "x": [
          0.31682292676503904,
          0.6110373870240331,
          null,
          0.31682292676503904,
          -0.4769951893375145,
          null,
          0.31682292676503904,
          0.49205730622449206,
          null,
          0.31682292676503904,
          0.9327711180584249,
          null,
          -0.9102105378620785,
          -0.9223293230094367,
          null,
          -0.9223293230094367,
          -0.9102105378620785,
          null,
          -0.14130838631868195,
          -0.16225029009980796,
          null,
          -0.16225029009980796,
          0.259694870941187,
          null,
          -0.16225029009980796,
          -0.5858306144588975,
          null,
          -0.15410360402541232,
          -0.15193305786377045,
          null,
          -0.15193305786377045,
          -0.15410360402541232,
          null,
          -0.03034916439577185,
          -0.04154147913061402,
          null,
          -0.02992147006458126,
          -0.03776225584203985,
          null,
          -0.4131593693159538,
          -0.3650120959157168,
          null,
          -0.3650120959157168,
          -0.3258770804857153,
          null,
          -0.3650120959157168,
          -0.35033789683129885,
          null,
          -0.3650120959157168,
          -0.4131593693159538,
          null,
          -0.3650120959157168,
          -0.351513729677747,
          null,
          -0.3650120959157168,
          -0.3981930144551637,
          null,
          -0.3258770804857153,
          -0.3650120959157168,
          null,
          -0.35033789683129885,
          -0.3650120959157168,
          null,
          0.6002270377842905,
          0.5727342700510456,
          null,
          0.5727342700510456,
          0.6002270377842905,
          null,
          -0.7704621507365188,
          -0.9480906851832795,
          null,
          -0.6104444064403401,
          -0.5858306144588975,
          null,
          0.6750084222582752,
          0.8575767547813735,
          null,
          0.3311604879824733,
          0.31483842467618606,
          null,
          0.31483842467618606,
          0.3311604879824733,
          null,
          -0.9529306474763285,
          -0.9657182362080089,
          null,
          0.704095754643928,
          0.8087897425198487,
          null,
          -0.7858769847504085,
          -0.8298228607682381,
          null,
          -0.8298228607682381,
          -0.7858769847504085,
          null,
          0.44605751453310954,
          0.701099304195418,
          null,
          -0.3981930144551637,
          -0.3650120959157168,
          null,
          0.06297810399550478,
          0.05506602476632666,
          null,
          0.05506602476632666,
          0.06297810399550478,
          null,
          0.2648886070243011,
          0.2823033523151241,
          null,
          0.2823033523151241,
          0.2648886070243011,
          null,
          0.4632012572215619,
          0.553271614066514,
          null,
          -0.16284023798573175,
          -0.5858306144588975,
          null,
          -0.16284023798573175,
          0.259694870941187,
          null,
          0.7885481404741727,
          0.8023968638741356,
          null,
          -0.6683472763545933,
          -0.8217207210212035,
          null,
          -0.9121193641068771,
          -0.8691027670615848,
          null,
          -0.8691027670615848,
          -0.9121193641068771,
          null,
          -0.11471357433112622,
          -0.13869616326999115,
          null,
          -0.351513729677747,
          -0.3650120959157168,
          null,
          -0.8606878415591611,
          -0.9102105378620785,
          null,
          0.07557616596730786,
          0.050026374082019966,
          null,
          0.8822802119368904,
          0.9360267476339156,
          null,
          -0.26509799847610277,
          -0.37677620159619307,
          null,
          -0.3917597782045136,
          -0.3650120959157168,
          null,
          -0.7013853935654994,
          -1,
          null,
          -0.7013853935654994,
          -0.8174989485941468,
          null,
          -0.516837984847583,
          -0.5453763059463632,
          null,
          -0.5453763059463632,
          -0.516837984847583,
          null,
          0.61994903933204,
          0.6110373870240331,
          null,
          -0.17119080162027042,
          -0.1729318299179777,
          null,
          -0.1729318299179777,
          -0.17119080162027042,
          null,
          -0.1729318299179777,
          -0.19293416924811752,
          null,
          0.12096505755652524,
          0.08537008695188177,
          null,
          0.6650207800872693,
          0.8173781527285987,
          null,
          0.46995564276987417,
          0.7815030144699994,
          null,
          0.46995564276987417,
          0.37078020349966473,
          null,
          0.6308151168526701,
          0.886438121774262,
          null,
          0.29971803160670013,
          0.31682292676503904,
          null,
          -0.37167890967871936,
          -0.34617614221685616,
          null,
          -0.6076550169257997,
          -0.7506084981613639,
          null,
          -0.8328255893686362,
          -0.9570022996436974,
          null,
          -0.26467100537609045,
          -0.2553694349954895,
          null,
          0.5602540083646026,
          0.5990310469810548,
          null,
          0.5602540083646026,
          0.5809452105069076,
          null,
          0.5990310469810548,
          0.5602540083646026,
          null,
          0.483084316421545,
          0.5066907808133361,
          null,
          0.5066907808133361,
          0.483084316421545,
          null,
          0.7228672848659227,
          0.8905095496974363,
          null,
          -0.6880161608964449,
          -0.720204265777161,
          null,
          -0.720204265777161,
          -0.6880161608964449,
          null,
          0.7614585138366196,
          0.7438529152855043,
          null,
          0.7438529152855043,
          0.7614585138366196,
          null,
          0.7404582258811178,
          0.7753181869954391,
          null,
          0.5809452105069076,
          0.5602540083646026,
          null,
          0.6525842430001757,
          0.8575767547813735,
          null,
          -0.685975940279061,
          -0.9090126228383411,
          null,
          0.5414553629205008,
          0.8575767547813735,
          null,
          0.3856759136371692,
          0.453694552760317,
          null,
          0.17897111079427575,
          -0.23216686067260142,
          null,
          0.17897111079427575,
          0.6110373870240331,
          null,
          0.37046597841951023,
          0.3506563867312203,
          null,
          0.3506563867312203,
          0.37046597841951023,
          null,
          -0.45801242392476055,
          -0.44257049910719726,
          null,
          0.8501980956499705,
          0.8469873746680465,
          null,
          -0.418958556308777,
          -0.45801242392476055,
          null,
          -0.6376871371697003,
          -0.7461343948674679,
          null,
          -0.4740215033568953,
          -0.44257049910719726,
          null,
          -0.19293416924811752,
          -0.1729318299179777,
          null,
          0.825473024116502,
          0.9194161273230773,
          null,
          -0.3995587728075066,
          -0.3832931992647956,
          null,
          -0.3832931992647956,
          -0.3995587728075066,
          null,
          -0.3348851210989107,
          -0.44257049910719726,
          null
         ],
         "y": [
          0.437706691127844,
          0.6315932309274978,
          null,
          0.437706691127844,
          0.7065475121149971,
          null,
          0.437706691127844,
          0.7709259214507783,
          null,
          0.437706691127844,
          -0.0800865996824116,
          null,
          0.030013431440657497,
          0.05631976494312695,
          null,
          0.05631976494312695,
          0.030013431440657497,
          null,
          -0.06051760181099194,
          -0.09335868616767852,
          null,
          -0.09335868616767852,
          -0.9034238787058714,
          null,
          -0.09335868616767852,
          0.7185731336614376,
          null,
          -0.8364687132675732,
          -0.8671307369998253,
          null,
          -0.8671307369998253,
          -0.8364687132675732,
          null,
          -0.7660195217803699,
          -0.8819007979263886,
          null,
          0.7819746446848869,
          0.9203233476390336,
          null,
          -0.26859048834632654,
          -0.2601800376621115,
          null,
          -0.2601800376621115,
          -0.2709355131291086,
          null,
          -0.2601800376621115,
          -0.22320864362182677,
          null,
          -0.2601800376621115,
          -0.26859048834632654,
          null,
          -0.2601800376621115,
          -0.3036928063528428,
          null,
          -0.2601800376621115,
          -0.23125784261102536,
          null,
          -0.2709355131291086,
          -0.2601800376621115,
          null,
          -0.22320864362182677,
          -0.2601800376621115,
          null,
          -0.4289570399635126,
          -0.4353715711356552,
          null,
          -0.4353715711356552,
          -0.4289570399635126,
          null,
          0.11377293580560947,
          0.1529179614362801,
          null,
          0.7547610611687111,
          0.7185731336614376,
          null,
          0.37612094615864533,
          0.4930937448812837,
          null,
          0.9307665744320588,
          0.9036374364234778,
          null,
          0.9036374364234778,
          0.9307665744320588,
          null,
          -0.2826798006346032,
          -0.24876990061497684,
          null,
          -0.38068091008621996,
          -0.44886207303135556,
          null,
          0.4568621636360314,
          0.48326329503409166,
          null,
          0.48326329503409166,
          0.4568621636360314,
          null,
          -0.40569416055123575,
          -0.6285977125156207,
          null,
          -0.23125784261102536,
          -0.2601800376621115,
          null,
          -0.9516796006397442,
          -0.9216942150385693,
          null,
          -0.9216942150385693,
          -0.9516796006397442,
          null,
          -0.7318515969537047,
          -0.7551800088499909,
          null,
          -0.7551800088499909,
          -0.7318515969537047,
          null,
          0.5663956732002273,
          0.704723083603192,
          null,
          -0.0909035647744522,
          0.7185731336614376,
          null,
          -0.0909035647744522,
          -0.9034238787058714,
          null,
          -0.30499880963379816,
          -0.33777507174781995,
          null,
          -0.516592673671599,
          -0.6300464733595527,
          null,
          -0.16974928510532777,
          -0.15847192035921026,
          null,
          -0.15847192035921026,
          -0.16974928510532777,
          null,
          0.7049199440959002,
          0.9067914848187166,
          null,
          -0.3036928063528428,
          -0.2601800376621115,
          null,
          0.022312843671295487,
          0.030013431440657497,
          null,
          0.9259097714442704,
          0.9505967108486428,
          null,
          0.07129652615902116,
          0.07583272869492727,
          null,
          -0.614952072276528,
          -0.8914042957931485,
          null,
          -0.2994199119188629,
          -0.2601800376621115,
          null,
          -0.12123313611250386,
          -0.04568978518268514,
          null,
          -0.12123313611250386,
          -0.36418945776721035,
          null,
          -0.6859967862553394,
          -0.6936392216633608,
          null,
          -0.6936392216633608,
          -0.6859967862553394,
          null,
          0.5972044862837952,
          0.6315932309274978,
          null,
          0.5420580988563299,
          0.5069072068296597,
          null,
          0.5069072068296597,
          0.5420580988563299,
          null,
          0.5069072068296597,
          0.4818352206168189,
          null,
          -0.8715914138826641,
          -0.8651859235601015,
          null,
          0.17668488047869343,
          0.21695297236332753,
          null,
          -0.5699998520164038,
          -0.5698692686651148,
          null,
          -0.5699998520164038,
          -0.8546700989206238,
          null,
          -0.3197674107538994,
          -0.4392485495958456,
          null,
          0.4665171843248411,
          0.437706691127844,
          null,
          0.8478615958940148,
          0.8202245798743986,
          null,
          0.5431605284913361,
          0.6784153616552445,
          null,
          0.2207376789839406,
          0.2586336735982232,
          null,
          -0.9135693759408864,
          -0.8681598238659586,
          null,
          -0.6790727347337187,
          -0.698450086346706,
          null,
          -0.6790727347337187,
          -0.7284864898761586,
          null,
          -0.698450086346706,
          -0.6790727347337187,
          null,
          0.4591527347845461,
          0.4763702891656352,
          null,
          0.4763702891656352,
          0.4591527347845461,
          null,
          0.17178218077533064,
          0.2044277435179896,
          null,
          0.3747256027868304,
          0.390095175303729,
          null,
          0.390095175303729,
          0.3747256027868304,
          null,
          -0.04111023984374479,
          -0.0634120898846929,
          null,
          -0.0634120898846929,
          -0.04111023984374479,
          null,
          0.5901200711608294,
          0.583425016870312,
          null,
          -0.7284864898761586,
          -0.6790727347337187,
          null,
          0.38018909500167153,
          0.4930937448812837,
          null,
          0.2697478636687994,
          0.36971079077260033,
          null,
          0.3049289185402662,
          0.4930937448812837,
          null,
          -0.6641598783481473,
          -0.7905885218691379,
          null,
          0.7186558548058667,
          0.8933794479565481,
          null,
          0.7186558548058667,
          0.6315932309274978,
          null,
          0.8314340077147021,
          0.7891931571358481,
          null,
          0.7891931571358481,
          0.8314340077147021,
          null,
          -0.7768596152458169,
          -0.8118088546209371,
          null,
          0.386110739005105,
          0.421261856968917,
          null,
          -0.593358074015007,
          -0.7768596152458169,
          null,
          0.5155503384336063,
          0.6070658819048171,
          null,
          -0.8502082163307729,
          -0.8118088546209371,
          null,
          0.4818352206168189,
          0.5069072068296597,
          null,
          -0.22085081943376517,
          -0.23948069281782652,
          null,
          0.9273851964511604,
          0.8992527096887477,
          null,
          0.8992527096887477,
          0.9273851964511604,
          null,
          -0.5473497498982551,
          -0.8118088546209371,
          null
         ]
        },
        {
         "hoverinfo": "text",
         "hovertext": [
          "IP: 155.69.160.32<br>Connections: 5<br>Country: SG<br>Organization: NTUNET1",
          "IP: 64.233.188.128<br>Connections: 3<br>Country: None<br>Organization: GOOGLE",
          "IP: 137.132.228.15<br>Connections: 3<br>Country: SG<br>Organization: NUSNET",
          "IP: 193.62.192.8<br>Connections: 2<br>Country: GB<br>Organization: EUR-BIO-INST",
          "IP: 137.132.250.8<br>Connections: 1<br>Country: SG<br>Organization: NUSNET",
          "IP: 193.62.193.9<br>Connections: 3<br>Country: GB<br>Organization: EUR-BIO-INST",
          "IP: 137.189.133.62<br>Connections: 2<br>Country: HK<br>Organization: CUHKNET",
          "IP: 123.136.64.7<br>Connections: 2<br>Country: SG<br>Organization: A-STAR-SG",
          "IP: 193.62.192.6<br>Connections: 1<br>Country: GB<br>Organization: EUR-BIO-INST",
          "IP: 202.6.241.101<br>Connections: 1<br>Country: SG<br>Organization: A-STAR-NET",
          "IP: 137.132.3.12<br>Connections: 2<br>Country: SG<br>Organization: NUSNET",
          "IP: 193.62.143.32<br>Connections: 1<br>Country: GB<br>Organization: BRUNEL-UNI",
          "IP: 140.110.122.102<br>Connections: 1<br>Country: TW<br>Organization: T-NCHC.ORG.TW-NET",
          "IP: 104.44.201.171<br>Connections: 2<br>Country: None<br>Organization: MSFT",
          "IP: 202.21.159.244<br>Connections: 11<br>Country: SG<br>Organization: RPNET",
          "IP: 104.44.201.147<br>Connections: 2<br>Country: None<br>Organization: MSFT",
          "IP: 104.44.201.152<br>Connections: 2<br>Country: None<br>Organization: MSFT",
          "IP: 133.39.224.12<br>Connections: 2<br>Country: JP<br>Organization: JPNIC-NET-JP-ERX",
          "IP: 137.132.243.142<br>Connections: 2<br>Country: SG<br>Organization: NUSNET",
          "IP: 202.120.224.114<br>Connections: 1<br>Country: CN<br>Organization: CERNET-CN",
          "IP: 155.69.213.27<br>Connections: 1<br>Country: SG<br>Organization: NTUNET1",
          "IP: 193.49.97.157<br>Connections: 1<br>Country: FR<br>Organization: FR-CNRM-GAME-METEO",
          "IP: 137.132.3.10<br>Connections: 3<br>Country: SG<br>Organization: NUSNET",
          "IP: 74.125.200.95<br>Connections: 1<br>Country: None<br>Organization: GOOGLE",
          "IP: 130.246.176.85<br>Connections: 1<br>Country: GB<br>Organization: RAL-IP",
          "IP: 140.115.32.81<br>Connections: 3<br>Country: TW<br>Organization: T-NCU.EDU.TW-NET",
          "IP: 14.139.160.245<br>Connections: 2<br>Country: IN<br>Organization: NKN-IIT-CHEENAI",
          "IP: 133.5.26.111<br>Connections: 2<br>Country: JP<br>Organization: JPNIC-NET-JP-ERX",
          "IP: 14.139.196.58<br>Connections: 1<br>Country: IN<br>Organization: NKN-IIT-GUW",
          "IP: 192.101.107.153<br>Connections: 1<br>Country: None<br>Organization: PNNL",
          "IP: 140.112.30.26<br>Connections: 1<br>Country: TW<br>Organization: T-NTU.EDU.TW-NET",
          "IP: 14.139.246.22<br>Connections: 1<br>Country: IN<br>Organization: NKN-PU-CHD",
          "IP: 167.205.50.52<br>Connections: 2<br>Country: ID<br>Organization: ITB-NET",
          "IP: 150.65.7.130<br>Connections: 2<br>Country: JP<br>Organization: JAPAN150",
          "IP: 132.227.74.11<br>Connections: 1<br>Country: FR<br>Organization: FR-LIP6-NET",
          "IP: 140.113.17.209<br>Connections: 1<br>Country: TW<br>Organization: T-NCTU.EDU.TW-NET",
          "IP: 104.44.201.170<br>Connections: 2<br>Country: None<br>Organization: MSFT",
          "IP: 172.217.27.14<br>Connections: 1<br>Country: None<br>Organization: GOOGLE",
          "IP: 152.3.137.246<br>Connections: 2<br>Country: None<br>Organization: DUKE-NET",
          "IP: 155.69.220.104<br>Connections: 2<br>Country: SG<br>Organization: NTUNET1",
          "IP: 137.132.19.118<br>Connections: 2<br>Country: SG<br>Organization: NUSNET",
          "IP: 193.62.193.8<br>Connections: 2<br>Country: GB<br>Organization: EUR-BIO-INST",
          "IP: 134.219.229.225<br>Connections: 1<br>Country: GB<br>Organization: RHBNC",
          "IP: 140.113.55.80<br>Connections: 1<br>Country: TW<br>Organization: T-NCTU.EDU.TW-NET",
          "IP: 74.125.200.127<br>Connections: 1<br>Country: None<br>Organization: GOOGLE",
          "IP: 171.67.76.38<br>Connections: 2<br>Country: None<br>Organization: NETBLK-SUNET",
          "IP: 128.114.119.163<br>Connections: 1<br>Country: None<br>Organization: UCSC",
          "IP: 137.132.243.174<br>Connections: 1<br>Country: SG<br>Organization: NUSNET",
          "IP: 207.241.228.123<br>Connections: 1<br>Country: None<br>Organization: INTERNET-ARCHIVE-1",
          "IP: 103.18.0.34<br>Connections: 1<br>Country: MY<br>Organization: UM-MY",
          "IP: 159.226.5.131<br>Connections: 2<br>Country: CN<br>Organization: CSTNET",
          "IP: 137.132.208.204<br>Connections: 2<br>Country: SG<br>Organization: NUSNET",
          "IP: 133.24.248.17<br>Connections: 1<br>Country: JP<br>Organization: JPNIC-NET-JP-ERX",
          "IP: 155.69.160.18<br>Connections: 1<br>Country: SG<br>Organization: NTUNET1",
          "IP: 31.13.78.14<br>Connections: 2<br>Country: IE<br>Organization: IE-FACEBOOK-20110418",
          "IP: 192.170.230.228<br>Connections: 1<br>Country: None<br>Organization: UOC-NET3",
          "IP: 205.167.25.166<br>Connections: 1<br>Country: None<br>Organization: NOAA-NCDC-SB",
          "IP: 167.205.22.102<br>Connections: 1<br>Country: ID<br>Organization: ITB-NET",
          "IP: 130.88.250.157<br>Connections: 1<br>Country: GB<br>Organization: MANLAN",
          "IP: 137.132.32.247<br>Connections: 1<br>Country: SG<br>Organization: NUSNET",
          "IP: 155.69.150.18<br>Connections: 1<br>Country: SG<br>Organization: NTUNET1",
          "IP: 172.217.27.1<br>Connections: 1<br>Country: None<br>Organization: GOOGLE",
          "IP: 52.113.65.141<br>Connections: 1<br>Country: None<br>Organization: MSFT",
          "IP: 192.122.131.36<br>Connections: 2<br>Country: SG<br>Organization: A-STAR-AS-AP",
          "IP: 202.83.105.146<br>Connections: 1<br>Country: SG<br>Organization: VIEWQWEST-NET",
          "IP: 61.252.52.21<br>Connections: 2<br>Country: KR<br>Organization: KOREN-KR",
          "IP: 203.80.21.4<br>Connections: 2<br>Country: MY<br>Organization: MYREN-INFRA",
          "IP: 155.69.196.106<br>Connections: 1<br>Country: SG<br>Organization: NTUNET1",
          "IP: 130.14.250.11<br>Connections: 2<br>Country: None<br>Organization: NLM-ETHER",
          "IP: 103.37.198.100<br>Connections: 4<br>Country: SG<br>Organization: A-STAR-AS-AP",
          "IP: 59.191.192.73<br>Connections: 1<br>Country: AU<br>Organization: MONASHUNI-NET2",
          "IP: 130.194.11.52<br>Connections: 1<br>Country: AU<br>Organization: MONASH-NET",
          "IP: 103.237.142.250<br>Connections: 1<br>Country: SG<br>Organization: ESSEC-SG",
          "IP: 194.254.137.126<br>Connections: 1<br>Country: FR<br>Organization: FR-ESSEC-CERGYPONTOISE",
          "IP: 202.21.158.254<br>Connections: 2<br>Country: SG<br>Organization: RPNET",
          "IP: 124.197.82.28<br>Connections: 1<br>Country: SG<br>Organization: Mobile-Broadband",
          "IP: 130.14.250.7<br>Connections: 1<br>Country: None<br>Organization: NLM-ETHER",
          "IP: 137.132.22.254<br>Connections: 1<br>Country: SG<br>Organization: NUSNET",
          "IP: 137.222.0.78<br>Connections: 1<br>Country: GB<br>Organization: UNI-BRISTOL-LINR",
          "IP: 202.170.57.243<br>Connections: 1<br>Country: MY<br>Organization: USMNET",
          "IP: 134.160.228.4<br>Connections: 1<br>Country: JP<br>Organization: RIKEN-NET",
          "IP: 137.132.46.73<br>Connections: 1<br>Country: SG<br>Organization: NUSNET",
          "IP: 193.60.231.143<br>Connections: 1<br>Country: GB<br>Organization: UNI-COLL-LONDON",
          "IP: 203.178.132.80<br>Connections: 1<br>Country: JP<br>Organization: TSUKUBA-WIDE",
          "IP: 137.132.155.197<br>Connections: 1<br>Country: SG<br>Organization: NUSNET",
          "IP: 220.156.176.16<br>Connections: 1<br>Country: SG<br>Organization: IMCBNET",
          "IP: 130.14.29.35<br>Connections: 1<br>Country: None<br>Organization: NLM-ETHER",
          "IP: 175.156.15.109<br>Connections: 1<br>Country: SG<br>Organization: M1Net",
          "IP: 140.138.144.170<br>Connections: 4<br>Country: TW<br>Organization: T-YZU.EDU.TW-NET",
          "IP: 192.248.97.225<br>Connections: 2<br>Country: LK<br>Organization: LEARN",
          "IP: 198.71.44.98<br>Connections: 2<br>Country: None<br>Organization: INTERNET2",
          "IP: 152.3.219.19<br>Connections: 2<br>Country: None<br>Organization: DUKE-NET",
          "IP: 72.233.250.16<br>Connections: 1<br>Country: None<br>Organization: WSKT-262",
          "IP: 155.69.193.67<br>Connections: 1<br>Country: SG<br>Organization: NTUNET1",
          "IP: 143.215.4.17<br>Connections: 2<br>Country: None<br>Organization: GATECH",
          "IP: 137.132.209.141<br>Connections: 2<br>Country: SG<br>Organization: NUSNET",
          "IP: 123.136.68.200<br>Connections: 2<br>Country: SG<br>Organization: A-STAR-SG",
          "IP: 202.166.69.81<br>Connections: 2<br>Country: SG<br>Organization: SINGNET",
          "IP: 137.189.192.25<br>Connections: 1<br>Country: HK<br>Organization: CUHKNET",
          "IP: 203.80.20.66<br>Connections: 1<br>Country: MY<br>Organization: MYREN-INFRA",
          "IP: 14.139.171.162<br>Connections: 2<br>Country: IN<br>Organization: NKN-CET-TRIV",
          "IP: 130.246.176.54<br>Connections: 1<br>Country: GB<br>Organization: RAL-IP",
          "IP: 14.139.5.234<br>Connections: 1<br>Country: IN<br>Organization: NKN-INST-4",
          "IP: 202.179.252.27<br>Connections: 1<br>Country: CN<br>Organization: TEIN2-CERNET",
          "IP: 130.246.176.56<br>Connections: 1<br>Country: GB<br>Organization: RAL-IP",
          "IP: 140.112.8.139<br>Connections: 1<br>Country: TW<br>Organization: T-NTU.EDU.TW-NET",
          "IP: 103.21.126.2<br>Connections: 1<br>Country: IN<br>Organization: IITB-IN",
          "IP: 155.69.160.3<br>Connections: 2<br>Country: SG<br>Organization: NTUNET1",
          "IP: 172.217.27.10<br>Connections: 1<br>Country: None<br>Organization: GOOGLE",
          "IP: 140.90.101.61<br>Connections: 2<br>Country: None<br>Organization: NOAA-EAST3",
          "IP: 167.205.52.8<br>Connections: 2<br>Country: ID<br>Organization: ITB-NET",
          "IP: 14.139.5.218<br>Connections: 2<br>Country: IN<br>Organization: NKN-INST-4",
          "IP: 203.30.39.13<br>Connections: 3<br>Country: SG<br>Organization: SINGAREN-GIX",
          "IP: 130.246.176.38<br>Connections: 1<br>Country: GB<br>Organization: RAL-IP",
          "IP: 140.110.122.103<br>Connections: 1<br>Country: TW<br>Organization: T-NCHC.ORG.TW-NET",
          "IP: 203.181.249.186<br>Connections: 1",
          "IP: 155.69.120.64<br>Connections: 1<br>Country: SG<br>Organization: NTUNET1",
          "IP: 74.125.68.95<br>Connections: 1<br>Country: None<br>Organization: GOOGLE",
          "IP: 202.28.194.4<br>Connections: 1<br>Country: TH<br>Organization: UNINET-TH",
          "IP: 130.14.250.13<br>Connections: 2<br>Country: None<br>Organization: NLM-ETHER",
          "IP: 194.66.32.16<br>Connections: 1<br>Country: GB<br>Organization: COVUNET",
          "IP: 202.158.207.20<br>Connections: 1<br>Country: AU<br>Organization: AARNET",
          "IP: 210.48.222.9<br>Connections: 2<br>Country: MY<br>Organization: IIUM-MY",
          "IP: 207.241.228.157<br>Connections: 2<br>Country: None<br>Organization: INTERNET-ARCHIVE-1",
          "IP: 203.185.93.2<br>Connections: 1<br>Country: TH<br>Organization: THAISARN-TH",
          "IP: 216.58.203.234<br>Connections: 1<br>Country: None<br>Organization: GOOGLE"
         ],
         "marker": {
          "color": [
           5,
           3,
           3,
           2,
           1,
           3,
           2,
           2,
           1,
           1,
           2,
           1,
           1,
           2,
           11,
           2,
           2,
           2,
           2,
           1,
           1,
           1,
           3,
           1,
           1,
           3,
           2,
           2,
           1,
           1,
           1,
           1,
           2,
           2,
           1,
           1,
           2,
           1,
           2,
           2,
           2,
           2,
           1,
           1,
           1,
           2,
           1,
           1,
           1,
           1,
           2,
           2,
           1,
           1,
           2,
           1,
           1,
           1,
           1,
           1,
           1,
           1,
           1,
           2,
           1,
           2,
           2,
           1,
           2,
           4,
           1,
           1,
           1,
           1,
           2,
           1,
           1,
           1,
           1,
           1,
           1,
           1,
           1,
           1,
           1,
           1,
           1,
           1,
           4,
           2,
           2,
           2,
           1,
           1,
           2,
           2,
           2,
           2,
           1,
           1,
           2,
           1,
           1,
           1,
           1,
           1,
           1,
           2,
           1,
           2,
           2,
           2,
           3,
           1,
           1,
           1,
           1,
           1,
           1,
           2,
           1,
           1,
           2,
           2,
           1,
           1
          ],
          "colorbar": {
           "thickness": 15,
           "title": {
            "side": "right",
            "text": "Node Connections"
           },
           "xanchor": "left"
          },
          "colorscale": [
           [
            0,
            "#440154"
           ],
           [
            0.1111111111111111,
            "#482878"
           ],
           [
            0.2222222222222222,
            "#3e4989"
           ],
           [
            0.3333333333333333,
            "#31688e"
           ],
           [
            0.4444444444444444,
            "#26828e"
           ],
           [
            0.5555555555555556,
            "#1f9e89"
           ],
           [
            0.6666666666666666,
            "#35b779"
           ],
           [
            0.7777777777777778,
            "#6ece58"
           ],
           [
            0.8888888888888888,
            "#b5de2b"
           ],
           [
            1,
            "#fde725"
           ]
          ],
          "line": {
           "color": "black",
           "width": 2
          },
          "reversescale": true,
          "showscale": true,
          "size": [
           50,
           30,
           30,
           20,
           10,
           30,
           20,
           20,
           10,
           10,
           20,
           10,
           10,
           20,
           110,
           20,
           20,
           20,
           20,
           10,
           10,
           10,
           30,
           10,
           10,
           30,
           20,
           20,
           10,
           10,
           10,
           10,
           20,
           20,
           10,
           10,
           20,
           10,
           20,
           20,
           20,
           20,
           10,
           10,
           10,
           20,
           10,
           10,
           10,
           10,
           20,
           20,
           10,
           10,
           20,
           10,
           10,
           10,
           10,
           10,
           10,
           10,
           10,
           20,
           10,
           20,
           20,
           10,
           20,
           40,
           10,
           10,
           10,
           10,
           20,
           10,
           10,
           10,
           10,
           10,
           10,
           10,
           10,
           10,
           10,
           10,
           10,
           10,
           40,
           20,
           20,
           20,
           10,
           10,
           20,
           20,
           20,
           20,
           10,
           10,
           20,
           10,
           10,
           10,
           10,
           10,
           10,
           20,
           10,
           20,
           20,
           20,
           30,
           10,
           10,
           10,
           10,
           10,
           10,
           20,
           10,
           10,
           20,
           20,
           10,
           10
          ],
          "symbol": "circle"
         },
         "mode": "markers+text",
         "text": [],
         "textposition": "bottom center",
         "type": "scatter",
         "x": [
          0.31682292676503904,
          0.6110373870240331,
          -0.9102105378620785,
          -0.9223293230094367,
          -0.14130838631868195,
          -0.16225029009980796,
          -0.15410360402541232,
          -0.15193305786377045,
          -0.03034916439577185,
          -0.04154147913061402,
          0.259694870941187,
          -0.02992147006458126,
          -0.03776225584203985,
          -0.4131593693159538,
          -0.3650120959157168,
          -0.3258770804857153,
          -0.35033789683129885,
          0.6002270377842905,
          0.5727342700510456,
          -0.7704621507365188,
          -0.9480906851832795,
          -0.6104444064403401,
          -0.5858306144588975,
          -0.4769951893375145,
          0.6750084222582752,
          0.8575767547813735,
          0.3311604879824733,
          0.31483842467618606,
          -0.9529306474763285,
          -0.9657182362080089,
          0.704095754643928,
          0.8087897425198487,
          -0.7858769847504085,
          -0.8298228607682381,
          0.44605751453310954,
          0.701099304195418,
          -0.3981930144551637,
          0.49205730622449206,
          0.06297810399550478,
          0.05506602476632666,
          0.2648886070243011,
          0.2823033523151241,
          0.4632012572215619,
          0.553271614066514,
          0.9327711180584249,
          -0.16284023798573175,
          0.7885481404741727,
          0.8023968638741356,
          -0.6683472763545933,
          -0.8217207210212035,
          -0.9121193641068771,
          -0.8691027670615848,
          -0.11471357433112622,
          -0.13869616326999115,
          -0.351513729677747,
          -0.8606878415591611,
          0.07557616596730786,
          0.050026374082019966,
          0.8822802119368904,
          0.9360267476339156,
          -0.26509799847610277,
          -0.37677620159619307,
          -0.3917597782045136,
          -0.7013853935654994,
          -1,
          -0.516837984847583,
          -0.5453763059463632,
          0.61994903933204,
          -0.17119080162027042,
          -0.1729318299179777,
          0.12096505755652524,
          0.08537008695188177,
          0.6650207800872693,
          0.8173781527285987,
          0.46995564276987417,
          0.7815030144699994,
          0.6308151168526701,
          0.886438121774262,
          0.29971803160670013,
          -0.37167890967871936,
          -0.34617614221685616,
          -0.6076550169257997,
          -0.7506084981613639,
          -0.8328255893686362,
          -0.9570022996436974,
          -0.26467100537609045,
          -0.2553694349954895,
          0.37078020349966473,
          0.5602540083646026,
          0.5990310469810548,
          0.483084316421545,
          0.5066907808133361,
          0.7228672848659227,
          0.8905095496974363,
          -0.6880161608964449,
          -0.720204265777161,
          0.7614585138366196,
          0.7438529152855043,
          0.7404582258811178,
          0.7753181869954391,
          0.5809452105069076,
          0.6525842430001757,
          -0.685975940279061,
          -0.9090126228383411,
          0.5414553629205008,
          0.3856759136371692,
          0.453694552760317,
          0.17897111079427575,
          -0.23216686067260142,
          0.37046597841951023,
          0.3506563867312203,
          -0.45801242392476055,
          -0.44257049910719726,
          0.8501980956499705,
          0.8469873746680465,
          -0.418958556308777,
          -0.6376871371697003,
          -0.7461343948674679,
          -0.4740215033568953,
          -0.19293416924811752,
          0.825473024116502,
          0.9194161273230773,
          -0.3995587728075066,
          -0.3832931992647956,
          -0.3348851210989107,
          -0.8174989485941468
         ],
         "y": [
          0.437706691127844,
          0.6315932309274978,
          0.030013431440657497,
          0.05631976494312695,
          -0.06051760181099194,
          -0.09335868616767852,
          -0.8364687132675732,
          -0.8671307369998253,
          -0.7660195217803699,
          -0.8819007979263886,
          -0.9034238787058714,
          0.7819746446848869,
          0.9203233476390336,
          -0.26859048834632654,
          -0.2601800376621115,
          -0.2709355131291086,
          -0.22320864362182677,
          -0.4289570399635126,
          -0.4353715711356552,
          0.11377293580560947,
          0.1529179614362801,
          0.7547610611687111,
          0.7185731336614376,
          0.7065475121149971,
          0.37612094615864533,
          0.4930937448812837,
          0.9307665744320588,
          0.9036374364234778,
          -0.2826798006346032,
          -0.24876990061497684,
          -0.38068091008621996,
          -0.44886207303135556,
          0.4568621636360314,
          0.48326329503409166,
          -0.40569416055123575,
          -0.6285977125156207,
          -0.23125784261102536,
          0.7709259214507783,
          -0.9516796006397442,
          -0.9216942150385693,
          -0.7318515969537047,
          -0.7551800088499909,
          0.5663956732002273,
          0.704723083603192,
          -0.0800865996824116,
          -0.0909035647744522,
          -0.30499880963379816,
          -0.33777507174781995,
          -0.516592673671599,
          -0.6300464733595527,
          -0.16974928510532777,
          -0.15847192035921026,
          0.7049199440959002,
          0.9067914848187166,
          -0.3036928063528428,
          0.022312843671295487,
          0.9259097714442704,
          0.9505967108486428,
          0.07129652615902116,
          0.07583272869492727,
          -0.614952072276528,
          -0.8914042957931485,
          -0.2994199119188629,
          -0.12123313611250386,
          -0.04568978518268514,
          -0.6859967862553394,
          -0.6936392216633608,
          0.5972044862837952,
          0.5420580988563299,
          0.5069072068296597,
          -0.8715914138826641,
          -0.8651859235601015,
          0.17668488047869343,
          0.21695297236332753,
          -0.5699998520164038,
          -0.5698692686651148,
          -0.3197674107538994,
          -0.4392485495958456,
          0.4665171843248411,
          0.8478615958940148,
          0.8202245798743986,
          0.5431605284913361,
          0.6784153616552445,
          0.2207376789839406,
          0.2586336735982232,
          -0.9135693759408864,
          -0.8681598238659586,
          -0.8546700989206238,
          -0.6790727347337187,
          -0.698450086346706,
          0.4591527347845461,
          0.4763702891656352,
          0.17178218077533064,
          0.2044277435179896,
          0.3747256027868304,
          0.390095175303729,
          -0.04111023984374479,
          -0.0634120898846929,
          0.5901200711608294,
          0.583425016870312,
          -0.7284864898761586,
          0.38018909500167153,
          0.2697478636687994,
          0.36971079077260033,
          0.3049289185402662,
          -0.6641598783481473,
          -0.7905885218691379,
          0.7186558548058667,
          0.8933794479565481,
          0.8314340077147021,
          0.7891931571358481,
          -0.7768596152458169,
          -0.8118088546209371,
          0.386110739005105,
          0.421261856968917,
          -0.593358074015007,
          0.5155503384336063,
          0.6070658819048171,
          -0.8502082163307729,
          0.4818352206168189,
          -0.22085081943376517,
          -0.23948069281782652,
          0.9273851964511604,
          0.8992527096887477,
          -0.5473497498982551,
          -0.36418945776721035
         ]
        }
       ],
       "layout": {
        "hovermode": "closest",
        "margin": {
         "b": 20,
         "l": 5,
         "r": 5,
         "t": 40
        },
        "plot_bgcolor": "white",
        "showlegend": false,
        "template": {
         "data": {
          "bar": [
           {
            "error_x": {
             "color": "#2a3f5f"
            },
            "error_y": {
             "color": "#2a3f5f"
            },
            "marker": {
             "line": {
              "color": "#E5ECF6",
              "width": 0.5
             },
             "pattern": {
              "fillmode": "overlay",
              "size": 10,
              "solidity": 0.2
             }
            },
            "type": "bar"
           }
          ],
          "barpolar": [
           {
            "marker": {
             "line": {
              "color": "#E5ECF6",
              "width": 0.5
             },
             "pattern": {
              "fillmode": "overlay",
              "size": 10,
              "solidity": 0.2
             }
            },
            "type": "barpolar"
           }
          ],
          "carpet": [
           {
            "aaxis": {
             "endlinecolor": "#2a3f5f",
             "gridcolor": "white",
             "linecolor": "white",
             "minorgridcolor": "white",
             "startlinecolor": "#2a3f5f"
            },
            "baxis": {
             "endlinecolor": "#2a3f5f",
             "gridcolor": "white",
             "linecolor": "white",
             "minorgridcolor": "white",
             "startlinecolor": "#2a3f5f"
            },
            "type": "carpet"
           }
          ],
          "choropleth": [
           {
            "colorbar": {
             "outlinewidth": 0,
             "ticks": ""
            },
            "type": "choropleth"
           }
          ],
          "contour": [
           {
            "colorbar": {
             "outlinewidth": 0,
             "ticks": ""
            },
            "colorscale": [
             [
              0,
              "#0d0887"
             ],
             [
              0.1111111111111111,
              "#46039f"
             ],
             [
              0.2222222222222222,
              "#7201a8"
             ],
             [
              0.3333333333333333,
              "#9c179e"
             ],
             [
              0.4444444444444444,
              "#bd3786"
             ],
             [
              0.5555555555555556,
              "#d8576b"
             ],
             [
              0.6666666666666666,
              "#ed7953"
             ],
             [
              0.7777777777777778,
              "#fb9f3a"
             ],
             [
              0.8888888888888888,
              "#fdca26"
             ],
             [
              1,
              "#f0f921"
             ]
            ],
            "type": "contour"
           }
          ],
          "contourcarpet": [
           {
            "colorbar": {
             "outlinewidth": 0,
             "ticks": ""
            },
            "type": "contourcarpet"
           }
          ],
          "heatmap": [
           {
            "colorbar": {
             "outlinewidth": 0,
             "ticks": ""
            },
            "colorscale": [
             [
              0,
              "#0d0887"
             ],
             [
              0.1111111111111111,
              "#46039f"
             ],
             [
              0.2222222222222222,
              "#7201a8"
             ],
             [
              0.3333333333333333,
              "#9c179e"
             ],
             [
              0.4444444444444444,
              "#bd3786"
             ],
             [
              0.5555555555555556,
              "#d8576b"
             ],
             [
              0.6666666666666666,
              "#ed7953"
             ],
             [
              0.7777777777777778,
              "#fb9f3a"
             ],
             [
              0.8888888888888888,
              "#fdca26"
             ],
             [
              1,
              "#f0f921"
             ]
            ],
            "type": "heatmap"
           }
          ],
          "heatmapgl": [
           {
            "colorbar": {
             "outlinewidth": 0,
             "ticks": ""
            },
            "colorscale": [
             [
              0,
              "#0d0887"
             ],
             [
              0.1111111111111111,
              "#46039f"
             ],
             [
              0.2222222222222222,
              "#7201a8"
             ],
             [
              0.3333333333333333,
              "#9c179e"
             ],
             [
              0.4444444444444444,
              "#bd3786"
             ],
             [
              0.5555555555555556,
              "#d8576b"
             ],
             [
              0.6666666666666666,
              "#ed7953"
             ],
             [
              0.7777777777777778,
              "#fb9f3a"
             ],
             [
              0.8888888888888888,
              "#fdca26"
             ],
             [
              1,
              "#f0f921"
             ]
            ],
            "type": "heatmapgl"
           }
          ],
          "histogram": [
           {
            "marker": {
             "pattern": {
              "fillmode": "overlay",
              "size": 10,
              "solidity": 0.2
             }
            },
            "type": "histogram"
           }
          ],
          "histogram2d": [
           {
            "colorbar": {
             "outlinewidth": 0,
             "ticks": ""
            },
            "colorscale": [
             [
              0,
              "#0d0887"
             ],
             [
              0.1111111111111111,
              "#46039f"
             ],
             [
              0.2222222222222222,
              "#7201a8"
             ],
             [
              0.3333333333333333,
              "#9c179e"
             ],
             [
              0.4444444444444444,
              "#bd3786"
             ],
             [
              0.5555555555555556,
              "#d8576b"
             ],
             [
              0.6666666666666666,
              "#ed7953"
             ],
             [
              0.7777777777777778,
              "#fb9f3a"
             ],
             [
              0.8888888888888888,
              "#fdca26"
             ],
             [
              1,
              "#f0f921"
             ]
            ],
            "type": "histogram2d"
           }
          ],
          "histogram2dcontour": [
           {
            "colorbar": {
             "outlinewidth": 0,
             "ticks": ""
            },
            "colorscale": [
             [
              0,
              "#0d0887"
             ],
             [
              0.1111111111111111,
              "#46039f"
             ],
             [
              0.2222222222222222,
              "#7201a8"
             ],
             [
              0.3333333333333333,
              "#9c179e"
             ],
             [
              0.4444444444444444,
              "#bd3786"
             ],
             [
              0.5555555555555556,
              "#d8576b"
             ],
             [
              0.6666666666666666,
              "#ed7953"
             ],
             [
              0.7777777777777778,
              "#fb9f3a"
             ],
             [
              0.8888888888888888,
              "#fdca26"
             ],
             [
              1,
              "#f0f921"
             ]
            ],
            "type": "histogram2dcontour"
           }
          ],
          "mesh3d": [
           {
            "colorbar": {
             "outlinewidth": 0,
             "ticks": ""
            },
            "type": "mesh3d"
           }
          ],
          "parcoords": [
           {
            "line": {
             "colorbar": {
              "outlinewidth": 0,
              "ticks": ""
             }
            },
            "type": "parcoords"
           }
          ],
          "pie": [
           {
            "automargin": true,
            "type": "pie"
           }
          ],
          "scatter": [
           {
            "fillpattern": {
             "fillmode": "overlay",
             "size": 10,
             "solidity": 0.2
            },
            "type": "scatter"
           }
          ],
          "scatter3d": [
           {
            "line": {
             "colorbar": {
              "outlinewidth": 0,
              "ticks": ""
             }
            },
            "marker": {
             "colorbar": {
              "outlinewidth": 0,
              "ticks": ""
             }
            },
            "type": "scatter3d"
           }
          ],
          "scattercarpet": [
           {
            "marker": {
             "colorbar": {
              "outlinewidth": 0,
              "ticks": ""
             }
            },
            "type": "scattercarpet"
           }
          ],
          "scattergeo": [
           {
            "marker": {
             "colorbar": {
              "outlinewidth": 0,
              "ticks": ""
             }
            },
            "type": "scattergeo"
           }
          ],
          "scattergl": [
           {
            "marker": {
             "colorbar": {
              "outlinewidth": 0,
              "ticks": ""
             }
            },
            "type": "scattergl"
           }
          ],
          "scattermapbox": [
           {
            "marker": {
             "colorbar": {
              "outlinewidth": 0,
              "ticks": ""
             }
            },
            "type": "scattermapbox"
           }
          ],
          "scatterpolar": [
           {
            "marker": {
             "colorbar": {
              "outlinewidth": 0,
              "ticks": ""
             }
            },
            "type": "scatterpolar"
           }
          ],
          "scatterpolargl": [
           {
            "marker": {
             "colorbar": {
              "outlinewidth": 0,
              "ticks": ""
             }
            },
            "type": "scatterpolargl"
           }
          ],
          "scatterternary": [
           {
            "marker": {
             "colorbar": {
              "outlinewidth": 0,
              "ticks": ""
             }
            },
            "type": "scatterternary"
           }
          ],
          "surface": [
           {
            "colorbar": {
             "outlinewidth": 0,
             "ticks": ""
            },
            "colorscale": [
             [
              0,
              "#0d0887"
             ],
             [
              0.1111111111111111,
              "#46039f"
             ],
             [
              0.2222222222222222,
              "#7201a8"
             ],
             [
              0.3333333333333333,
              "#9c179e"
             ],
             [
              0.4444444444444444,
              "#bd3786"
             ],
             [
              0.5555555555555556,
              "#d8576b"
             ],
             [
              0.6666666666666666,
              "#ed7953"
             ],
             [
              0.7777777777777778,
              "#fb9f3a"
             ],
             [
              0.8888888888888888,
              "#fdca26"
             ],
             [
              1,
              "#f0f921"
             ]
            ],
            "type": "surface"
           }
          ],
          "table": [
           {
            "cells": {
             "fill": {
              "color": "#EBF0F8"
             },
             "line": {
              "color": "white"
             }
            },
            "header": {
             "fill": {
              "color": "#C8D4E3"
             },
             "line": {
              "color": "white"
             }
            },
            "type": "table"
           }
          ]
         },
         "layout": {
          "annotationdefaults": {
           "arrowcolor": "#2a3f5f",
           "arrowhead": 0,
           "arrowwidth": 1
          },
          "autotypenumbers": "strict",
          "coloraxis": {
           "colorbar": {
            "outlinewidth": 0,
            "ticks": ""
           }
          },
          "colorscale": {
           "diverging": [
            [
             0,
             "#8e0152"
            ],
            [
             0.1,
             "#c51b7d"
            ],
            [
             0.2,
             "#de77ae"
            ],
            [
             0.3,
             "#f1b6da"
            ],
            [
             0.4,
             "#fde0ef"
            ],
            [
             0.5,
             "#f7f7f7"
            ],
            [
             0.6,
             "#e6f5d0"
            ],
            [
             0.7,
             "#b8e186"
            ],
            [
             0.8,
             "#7fbc41"
            ],
            [
             0.9,
             "#4d9221"
            ],
            [
             1,
             "#276419"
            ]
           ],
           "sequential": [
            [
             0,
             "#0d0887"
            ],
            [
             0.1111111111111111,
             "#46039f"
            ],
            [
             0.2222222222222222,
             "#7201a8"
            ],
            [
             0.3333333333333333,
             "#9c179e"
            ],
            [
             0.4444444444444444,
             "#bd3786"
            ],
            [
             0.5555555555555556,
             "#d8576b"
            ],
            [
             0.6666666666666666,
             "#ed7953"
            ],
            [
             0.7777777777777778,
             "#fb9f3a"
            ],
            [
             0.8888888888888888,
             "#fdca26"
            ],
            [
             1,
             "#f0f921"
            ]
           ],
           "sequentialminus": [
            [
             0,
             "#0d0887"
            ],
            [
             0.1111111111111111,
             "#46039f"
            ],
            [
             0.2222222222222222,
             "#7201a8"
            ],
            [
             0.3333333333333333,
             "#9c179e"
            ],
            [
             0.4444444444444444,
             "#bd3786"
            ],
            [
             0.5555555555555556,
             "#d8576b"
            ],
            [
             0.6666666666666666,
             "#ed7953"
            ],
            [
             0.7777777777777778,
             "#fb9f3a"
            ],
            [
             0.8888888888888888,
             "#fdca26"
            ],
            [
             1,
             "#f0f921"
            ]
           ]
          },
          "colorway": [
           "#636efa",
           "#EF553B",
           "#00cc96",
           "#ab63fa",
           "#FFA15A",
           "#19d3f3",
           "#FF6692",
           "#B6E880",
           "#FF97FF",
           "#FECB52"
          ],
          "font": {
           "color": "#2a3f5f"
          },
          "geo": {
           "bgcolor": "white",
           "lakecolor": "white",
           "landcolor": "#E5ECF6",
           "showlakes": true,
           "showland": true,
           "subunitcolor": "white"
          },
          "hoverlabel": {
           "align": "left"
          },
          "hovermode": "closest",
          "mapbox": {
           "style": "light"
          },
          "paper_bgcolor": "white",
          "plot_bgcolor": "#E5ECF6",
          "polar": {
           "angularaxis": {
            "gridcolor": "white",
            "linecolor": "white",
            "ticks": ""
           },
           "bgcolor": "#E5ECF6",
           "radialaxis": {
            "gridcolor": "white",
            "linecolor": "white",
            "ticks": ""
           }
          },
          "scene": {
           "xaxis": {
            "backgroundcolor": "#E5ECF6",
            "gridcolor": "white",
            "gridwidth": 2,
            "linecolor": "white",
            "showbackground": true,
            "ticks": "",
            "zerolinecolor": "white"
           },
           "yaxis": {
            "backgroundcolor": "#E5ECF6",
            "gridcolor": "white",
            "gridwidth": 2,
            "linecolor": "white",
            "showbackground": true,
            "ticks": "",
            "zerolinecolor": "white"
           },
           "zaxis": {
            "backgroundcolor": "#E5ECF6",
            "gridcolor": "white",
            "gridwidth": 2,
            "linecolor": "white",
            "showbackground": true,
            "ticks": "",
            "zerolinecolor": "white"
           }
          },
          "shapedefaults": {
           "line": {
            "color": "#2a3f5f"
           }
          },
          "ternary": {
           "aaxis": {
            "gridcolor": "white",
            "linecolor": "white",
            "ticks": ""
           },
           "baxis": {
            "gridcolor": "white",
            "linecolor": "white",
            "ticks": ""
           },
           "bgcolor": "#E5ECF6",
           "caxis": {
            "gridcolor": "white",
            "linecolor": "white",
            "ticks": ""
           }
          },
          "title": {
           "x": 0.05
          },
          "xaxis": {
           "automargin": true,
           "gridcolor": "white",
           "linecolor": "white",
           "ticks": "",
           "title": {
            "standoff": 15
           },
           "zerolinecolor": "white",
           "zerolinewidth": 2
          },
          "yaxis": {
           "automargin": true,
           "gridcolor": "white",
           "linecolor": "white",
           "ticks": "",
           "title": {
            "standoff": 15
           },
           "zerolinecolor": "white",
           "zerolinewidth": 2
          }
         }
        },
        "title": {
         "text": "Top 5 Communication Pairs"
        },
        "xaxis": {
         "showgrid": false,
         "showticklabels": false,
         "zeroline": false
        },
        "yaxis": {
         "showgrid": false,
         "showticklabels": false,
         "zeroline": false
        }
       }
      }
     },
     "metadata": {},
     "output_type": "display_data"
    }
   ],
   "source": [
    "import plotly.graph_objs as go\n",
    "\n",
    "# Initialize edge trace\n",
    "edge_trace = go.Scatter(\n",
    "    x=[],\n",
    "    y=[],\n",
    "    line=dict(width=1, color=\"gray\"),\n",
    "    hoverinfo=\"none\",\n",
    "    mode=\"lines\",\n",
    ")\n",
    "\n",
    "# Add edge coordinates to the edge trace\n",
    "for src, dst in G_filtered.edges():\n",
    "    x0, y0 = pos_filtered[src]\n",
    "    x1, y1 = pos_filtered[dst]\n",
    "    edge_trace[\"x\"] += (x0, x1, None)\n",
    "    edge_trace[\"y\"] += (y0, y1, None)\n",
    "\n",
    "# Initialize node trace\n",
    "node_trace = go.Scatter(\n",
    "    x=[],\n",
    "    y=[],\n",
    "    text=[],\n",
    "    mode=\"markers+text\",\n",
    "    hoverinfo=\"text\",\n",
    "    hovertext=[],\n",
    "    marker=dict(\n",
    "        symbol=\"circle\",\n",
    "        showscale=True,\n",
    "        colorscale=\"Viridis\",\n",
    "        reversescale=True,\n",
    "        color=[],\n",
    "        size=[],\n",
    "        colorbar=dict(thickness=15, title=\"Node Connections\", xanchor=\"left\", titleside=\"right\"),\n",
    "        line=dict(width=2, color=\"black\"),\n",
    "    ),\n",
    "    textposition=\"bottom center\",\n",
    ")\n",
    "\n",
    "# Add node coordinates, labels, and hover text to the node trace\n",
    "for node in G_filtered.nodes():\n",
    "    x, y = pos_filtered[node]\n",
    "    num_connections = G_filtered.degree[node]\n",
    "    node_trace[\"x\"] += tuple([x])\n",
    "    node_trace[\"y\"] += tuple([y])\n",
    "    node_trace[\"text\"] += tuple(\"\")\n",
    "    ip_info = get_ip_info(node)\n",
    "    if ip_info:\n",
    "        country = ip_info[\"network\"][\"country\"]\n",
    "        org = ip_info[\"network\"][\"name\"]\n",
    "        hover_text = f\"IP: {node}<br>Connections: {num_connections}<br>Country: {country}<br>Organization: {org}\"\n",
    "    else:\n",
    "        hover_text = f\"IP: {node}<br>Connections: {num_connections}\"\n",
    "    node_trace[\"hovertext\"] += tuple([hover_text])\n",
    "    node_trace[\"marker\"][\"color\"] += tuple([num_connections])\n",
    "    node_trace[\"marker\"][\"size\"] += tuple([num_connections * 10])\n",
    "\n",
    "# Create a Plotly figure with the edge and node traces\n",
    "fig = go.Figure(\n",
    "    data=[edge_trace, node_trace],\n",
    "    layout=go.Layout(\n",
    "        title=\"Communication Pairs\",\n",
    "        showlegend=False,\n",
    "        hovermode=\"closest\",\n",
    "        margin=dict(b=20, l=5, r=5, t=40),\n",
    "        xaxis=dict(showgrid=False, zeroline=False, showticklabels=False),\n",
    "        yaxis=dict(showgrid=False, zeroline=False, showticklabels=False),\n",
    "        plot_bgcolor=\"white\",  # Change the background color\n",
    "    ),\n",
    ")\n",
    "\n",
    "# Show the figure\n",
    "fig.show()\n"
   ]
  }
 ],
 "metadata": {
  "kernelspec": {
   "display_name": "Python 3",
   "language": "python",
   "name": "python3"
  },
  "language_info": {
   "codemirror_mode": {
    "name": "ipython",
    "version": 3
   },
   "file_extension": ".py",
   "mimetype": "text/x-python",
   "name": "python",
   "nbconvert_exporter": "python",
   "pygments_lexer": "ipython3",
   "version": "3.10.6"
  },
  "orig_nbformat": 4
 },
 "nbformat": 4,
 "nbformat_minor": 2
}
